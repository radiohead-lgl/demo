{
  "nbformat": 4,
  "nbformat_minor": 0,
  "metadata": {
    "colab": {
      "name": "Traffic.ipynb",
      "provenance": [],
      "mount_file_id": "1ffyVXJ14WmEzHe4PH3iZpDjqrKjFn2Mt",
      "authorship_tag": "ABX9TyMy9eMLSKsEJHmMHSagQ+D3",
      "include_colab_link": true
    },
    "kernelspec": {
      "name": "python3",
      "display_name": "Python 3"
    },
    "language_info": {
      "name": "python"
    }
  },
  "cells": [
    {
      "cell_type": "markdown",
      "metadata": {
        "id": "view-in-github",
        "colab_type": "text"
      },
      "source": [
        "<a href=\"https://colab.research.google.com/github/radiohead-lgl/demo/blob/master/Traffic.ipynb\" target=\"_parent\"><img src=\"https://colab.research.google.com/assets/colab-badge.svg\" alt=\"Open In Colab\"/></a>"
      ]
    },
    {
      "cell_type": "code",
      "execution_count": 1,
      "metadata": {
        "colab": {
          "base_uri": "https://localhost:8080/"
        },
        "id": "4LgQVdOoxUG7",
        "outputId": "ad44e820-9e65-4a14-bd93-b650ea6c7fba"
      },
      "outputs": [
        {
          "output_type": "stream",
          "name": "stdout",
          "text": [
            "Drive already mounted at /content/drive/; to attempt to forcibly remount, call drive.mount(\"/content/drive/\", force_remount=True).\n"
          ]
        }
      ],
      "source": [
        "from google.colab import drive \n",
        "drive.mount('/content/drive/') "
      ]
    },
    {
      "cell_type": "code",
      "source": [
        "# 放弃两个数据集合并的想法,先考虑单个数据集的算法情况\n",
        "import pandas as pd\n",
        "import numpy as np\n",
        "import matplotlib.pyplot as plt\n",
        "import seaborn as sns"
      ],
      "metadata": {
        "id": "FO9ofWZtyUJB"
      },
      "execution_count": 2,
      "outputs": []
    },
    {
      "cell_type": "code",
      "source": [
        "# 设置显示所有列\n",
        "pd.set_option('display.max_columns',None)"
      ],
      "metadata": {
        "id": "_-vhRoN_yURq"
      },
      "execution_count": 3,
      "outputs": []
    },
    {
      "cell_type": "code",
      "source": [
        "# 交通事故数据\n",
        "ori_US_all = pd.read_csv(r'/content/drive/MyDrive/Colab Notebooks/MyTraffic/US_Accidents_Dec21.csv')\n",
        "ori_US_all.drop(columns={'Number','End_Lat','End_Lng','Wind_Chill(F)','End_Time','Humidity(%)'},inplace=True)"
      ],
      "metadata": {
        "id": "tG0IuWWEyUUB"
      },
      "execution_count": 5,
      "outputs": []
    },
    {
      "cell_type": "code",
      "source": [
        "import datetime"
      ],
      "metadata": {
        "id": "ELI4dHEGyUWP"
      },
      "execution_count": 6,
      "outputs": []
    },
    {
      "cell_type": "code",
      "source": [
        "ori_US_all['Start_Time'] = pd.to_datetime(ori_US_all['Start_Time'])\n",
        "ori_US_all['Year'] = ori_US_all['Start_Time'].dt.year\n",
        "ori_US_all['Month']=ori_US_all['Start_Time'].dt.month\n",
        "ori_US_all['Weekday']=ori_US_all['Start_Time'].dt.weekday\n",
        "ori_US_all['Hour']=ori_US_all['Start_Time'].dt.hour\n",
        "ori_US_all['Day']=ori_US_all['Start_Time'].dt.day\n",
        "ori_US_all['minutes'] = ori_US_all['Start_Time'].dt.minute + ori_US_all['Hour']*60"
      ],
      "metadata": {
        "id": "8uR8a2nRyUYi"
      },
      "execution_count": 7,
      "outputs": []
    },
    {
      "cell_type": "code",
      "source": [
        "# 按年月日分组\n",
        "# 分组后,对每天的数据进行计算Haversine distance 和 time\n",
        "ori_US_all['YMD'] = ori_US_all['Start_Time'].dt.strftime('%Y-%m-%d')"
      ],
      "metadata": {
        "id": "m_b7T3Nrz45H"
      },
      "execution_count": 8,
      "outputs": []
    },
    {
      "cell_type": "code",
      "source": [
        "US_day = ori_US_all[['ID','Start_Time','Start_Lat','Start_Lng','Year','Month','Hour','Day','minutes','YMD']]"
      ],
      "metadata": {
        "id": "k9cW3BjXyyCN"
      },
      "execution_count": 9,
      "outputs": []
    },
    {
      "cell_type": "code",
      "source": [
        "US_day_2016 = US_day[US_day['Year']==2016]\n"
      ],
      "metadata": {
        "id": "nOZMGf9eyy72"
      },
      "execution_count": 10,
      "outputs": []
    },
    {
      "cell_type": "code",
      "source": [
        "# YMD_US_2016 = US_day_2016.groupby(by='YMD')\n",
        "YMD_US = US_day.groupby(by='YMD')"
      ],
      "metadata": {
        "id": "Vn6J6J-B0O8Q"
      },
      "execution_count": 11,
      "outputs": []
    },
    {
      "cell_type": "code",
      "source": [
        "from  geopy.distance  import  geodesic \n",
        "def pointdesc(lat1,lng1,lat2,lng2):\n",
        "    desc = geodesic((lat1,lng1), (lat2,lng2)).m\n",
        "    return desc"
      ],
      "metadata": {
        "id": "r9cMoS-LyzWu"
      },
      "execution_count": 12,
      "outputs": []
    },
    {
      "cell_type": "code",
      "source": [
        "# 当时间之差小于15,距离小于250时,认为是重复数据\n",
        "def every_YMD_func(tmp):\n",
        "    i = 0\n",
        "    for begin_index,begin_row in tmp.iterrows():\n",
        "        i+=1\n",
        "        # begin_minutes = begin_row['minutes']\n",
        "        for end_index,end_row in tmp.iloc[i:,:].iterrows():\n",
        "            if (abs(end_row['minutes']-begin_row['minutes'])<=15):\n",
        "                # print(abs(end_row['minutes']-begin_row['minutes']),begin_index,end_index)\n",
        "                if pointdesc(begin_row['Start_Lat'],begin_row['Start_Lng'],end_row['Start_Lat'],end_row['Start_Lng'])<250 :\n",
        "                    duplicate_list.append(begin_index)\n",
        "                    break;\n",
        "# duplicate_list\n",
        "# tmp.iloc[:,:]"
      ],
      "metadata": {
        "id": "1tnBOHZ_yzbL"
      },
      "execution_count": 13,
      "outputs": []
    },
    {
      "cell_type": "code",
      "source": [
        "duplicate_list =[]\n",
        "for i in YMD_US.groups.keys():\n",
        "    tmp = YMD_US.get_group(i)\n",
        "    every_YMD_func(tmp)\n",
        "duplicate_list"
      ],
      "metadata": {
        "id": "_y9imGdCyzfK"
      },
      "execution_count": null,
      "outputs": []
    },
    {
      "cell_type": "code",
      "source": [
        "with open('/content/drive/MyDrive/Colab Notebooks/MyTraffic/duplicate_index.csv','w',newline='')as csvfile:\n",
        "  writer = csv.writer(csvfile)\n",
        "  for row in duplicate_list:\n",
        "    writer.writerow(row)"
      ],
      "metadata": {
        "id": "WzVsiy2Ryzi5"
      },
      "execution_count": null,
      "outputs": []
    },
    {
      "cell_type": "code",
      "source": [
        "f = open('/content/drive/MyDrive/Colab Notebooks/MyTraffic/duplicate_index.txt','w')\n",
        "f.write(duplicate_list)\n",
        "f.close()"
      ],
      "metadata": {
        "id": "abTNlSPqyzmT"
      },
      "execution_count": 4,
      "outputs": []
    },
    {
      "cell_type": "code",
      "source": [
        "duplicate_list=[1,2,3]"
      ],
      "metadata": {
        "id": "qWBmsyKGuYgw"
      },
      "execution_count": 14,
      "outputs": []
    }
  ]
}